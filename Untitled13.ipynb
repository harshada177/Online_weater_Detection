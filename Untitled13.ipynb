{
 "cells": [
  {
   "cell_type": "code",
   "execution_count": 3,
   "metadata": {},
   "outputs": [],
   "source": [
    "import requests\n",
    "from pathlib import Path\n",
    "import openpyxl, time , _thread\n",
    "import pandas as pd\n",
    "from xlwt import Workbook \n",
    "import time\n",
    "import json"
   ]
  },
  {
   "cell_type": "code",
   "execution_count": null,
   "metadata": {},
   "outputs": [],
   "source": [
    "df = pd.read_excel(r'C:\\Users\\h\\Desktop\\task1\\City_Token.xlsx')\n",
    "                                                               \n",
    "# creating a list of dataframe columns of perticular city list\n",
    "for i in df['City']:\n",
    "        api_key =\"e48b900c2be8c16cf49c2987991ae109\"\n",
    "        base_url = \"http://api.openweathermap.org/data/2.5/weather?\"\n",
    "        complete_url = base_url + \"appid=\" + api_key + \"&q=\" + i\n",
    "        weather_data = requests.get(complete_url).json() \n",
    "        #print(weather_data['request']['query'])\n",
    "        temp= (weather_data['main']['temp']) \n",
    "        df['temp']=temp-273.15\n",
    "        df['humidity']=(weather_data['main']['humidity'])\n",
    "        time.sleep(1)\n",
    "        #print(df.head)\n",
    "        "
   ]
  },
  {
   "cell_type": "code",
   "execution_count": null,
   "metadata": {},
   "outputs": [],
   "source": [
    "print(df.head)         \n",
    "         "
   ]
  },
  {
   "cell_type": "code",
   "execution_count": null,
   "metadata": {},
   "outputs": [],
   "source": [
    "my_wb = openpyxl.Workbook()\n",
    "sheet = my_wb.active\n",
    "my_wb.create_sheet(index = 1 , title = \"new sheet\")\n",
    "n = sheet.max_row\n",
    "for i in range(1, n):\n",
    "    if((sheet.cell(row = i+1, column = 2).value)):\n",
    "        City = sheet.cell(row = i+1, column = 1).df['City']\n",
    "        # Update Temperature\n",
    "        sheet.cell(row = i+1, column = 2).value =  df['temp']\n",
    "        # Save to file\n",
    "        wb_obj.save(r\"C:\\Users\\h\\Desktop\\Book1.xlsx\") \n",
    "        print('city: \\t',df['City'])\n",
    "        print('Temperature: \\t',df['temp'])\n",
    "        print('Humidity: \\t' ,df['humidity'])\n",
    "            \n",
    "        my_wb.save(r\"C:\\Users\\h\\Desktop\\Book1.xlsx\")"
   ]
  },
  {
   "cell_type": "code",
   "execution_count": null,
   "metadata": {},
   "outputs": [],
   "source": []
  },
  {
   "cell_type": "code",
   "execution_count": null,
   "metadata": {},
   "outputs": [],
   "source": []
  },
  {
   "cell_type": "code",
   "execution_count": null,
   "metadata": {},
   "outputs": [],
   "source": []
  },
  {
   "cell_type": "code",
   "execution_count": null,
   "metadata": {},
   "outputs": [],
   "source": []
  }
 ],
 "metadata": {
  "kernelspec": {
   "display_name": "Python 3",
   "language": "python",
   "name": "python3"
  },
  "language_info": {
   "codemirror_mode": {
    "name": "ipython",
    "version": 3
   },
   "file_extension": ".py",
   "mimetype": "text/x-python",
   "name": "python",
   "nbconvert_exporter": "python",
   "pygments_lexer": "ipython3",
   "version": "3.7.6"
  }
 },
 "nbformat": 4,
 "nbformat_minor": 4
}
