{
 "cells": [
  {
   "cell_type": "code",
   "execution_count": 8,
   "metadata": {},
   "outputs": [],
   "source": [
    "import requests\n",
    "from pathlib import Path\n",
    "import openpyxl, time , _thread\n",
    "import pandas as pd\n",
    "import json"
   ]
  },
  {
   "cell_type": "code",
   "execution_count": 9,
   "metadata": {},
   "outputs": [],
   "source": [
    "def terminator(flag):\n",
    "    flag.append(False)"
   ]
  },
  {
   "cell_type": "code",
   "execution_count": 10,
   "metadata": {},
   "outputs": [],
   "source": [
    "df = pd.read_excel(r'C:\\Users\\h\\Desktop\\City_Token.xlsx')\n",
    "                                                               \n",
    "# creating a list of dataframe columns \n",
    "columns = list(df) \n",
    "  \n",
    "for i in df['City']: \n",
    "  \n",
    "    # printing the third element of the column \n",
    "    #print (i)\n",
    "    def get_Value(i):\n",
    "        api_key =\"e48b900c2be8c16cf49c2987991ae109\"\n",
    "        base_url = \"http://api.openweathermap.org/data/2.5/weather?\"\n",
    "        complete_url = base_url + \"appid=\" + api_key + \"&q=\" + i\n",
    "        weather_data = requests.get(complete_url).json() \n",
    "        #print(api_response['request']['query'])\n",
    "        #print (weather_data['main']['humidity'])\n",
    "         #print (weather_data['main']['temp']) \n",
    "        return [api_response['request']['query'], api_response['current']['humidity'], api_response['current']['temperature']]"
   ]
  },
  {
   "cell_type": "code",
   "execution_count": 11,
   "metadata": {},
   "outputs": [],
   "source": [
    "def toFah(temp):\n",
    "    return (cel*9//5)+32"
   ]
  },
  {
   "cell_type": "code",
   "execution_count": 12,
   "metadata": {},
   "outputs": [],
   "source": [
    "def main():\n",
    "    xlsx_file = Path(r'C:\\Users\\h\\Desktop\\Book1.xlsx')\n",
    "    wb_obj = openpyxl.load_workbook(xlsx_file) \n",
    "    sheet = wb_obj.active\n",
    "    initial = True\n",
    "    tupdated = 0\n",
    "    n = sheet.max_row\n",
    "    flag =[]\n",
    "    _thread.start_new_thread(terminator, (flag,))\n",
    "    while not flag:\n",
    "        tupdated = 0\n",
    "        for i in range(1, n):\n",
    "            if((sheet.cell(row = i+1, column = 5).value) == 1 or initial) and not flag:\n",
    "                tupdated+=1\n",
    "                city = sheet.cell(row = i+1, column = 1).value\n",
    "                values = get_Value(city)\n",
    "                if(sheet.cell(row = i+1, column = 4).value) == 'C':\n",
    "                    sheet.cell(row = i+1, column = 3).value =  values[1]\n",
    "          # Update Temperature\n",
    "                    sheet.cell(row = i+1, column = 2).value =  values[2]\n",
    "          # Save to file\n",
    "                    wb_obj.save(r\"C:\\Users\\h\\Desktop\\Book1.xlsx\") \n",
    "                    print(f'Location: \\t{values[0]}')\n",
    "                    print(f'Humidity: \\t{values[1]}')\n",
    "                    print(f'Temperature: \\t{values[2]}°C')\n",
    "                else:\n",
    "          # Update Humidity\n",
    "                    sheet.cell(row = i+1, column = 3).value =  values[1]\n",
    "          # Update Temperature\n",
    "                    sheet.cell(row = i+1, column = 2).value =  toFah(values[2])\n",
    "          # Save to file\n",
    "                    wb_obj.save(\"Values.xlsx\")\n",
    "                    print(f'Location: \\t{values[0]}')\n",
    "                    print(f'Humidity: \\t{values[1]}')\n",
    "                    print(f'Temperature: \\t{toFah(values[2])}°F')\n",
    "                    print(\"----------------------------------------------------\") \n",
    "\n",
    "                time.sleep(1)\n",
    "        initial = False\n",
    "\n",
    "        if tupdated == 0:\n",
    "            print(\"Nothing to update. Exiting!!\")\n",
    "            break "
   ]
  },
  {
   "cell_type": "code",
   "execution_count": 13,
   "metadata": {},
   "outputs": [
    {
     "name": "stdout",
     "output_type": "stream",
     "text": [
      "Nothing to update. Exiting!!\n"
     ]
    }
   ],
   "source": [
    "if __name__ == \"__main__\":\n",
    "    main()"
   ]
  },
  {
   "cell_type": "code",
   "execution_count": null,
   "metadata": {},
   "outputs": [],
   "source": []
  },
  {
   "cell_type": "code",
   "execution_count": null,
   "metadata": {},
   "outputs": [],
   "source": []
  }
 ],
 "metadata": {
  "kernelspec": {
   "display_name": "Python 3",
   "language": "python",
   "name": "python3"
  },
  "language_info": {
   "codemirror_mode": {
    "name": "ipython",
    "version": 3
   },
   "file_extension": ".py",
   "mimetype": "text/x-python",
   "name": "python",
   "nbconvert_exporter": "python",
   "pygments_lexer": "ipython3",
   "version": "3.7.6"
  }
 },
 "nbformat": 4,
 "nbformat_minor": 4
}
